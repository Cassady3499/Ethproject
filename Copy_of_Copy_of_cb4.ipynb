{
  "nbformat": 4,
  "nbformat_minor": 0,
  "metadata": {
    "colab": {
      "name": "Copy of Copy of cb4",
      "version": "0.3.2",
      "provenance": [],
      "collapsed_sections": [],
      "include_colab_link": true
    },
    "kernelspec": {
      "display_name": "Python 3",
      "name": "python3"
    }
  },
  "cells": [
    {
      "cell_type": "markdown",
      "metadata": {
        "id": "view-in-github",
        "colab_type": "text"
      },
      "source": [
        "<a href=\"https://colab.research.google.com/github/Cassady3499/Ethproject/blob/master/Copy_of_Copy_of_cb4.ipynb\" target=\"_parent\"><img src=\"https://colab.research.google.com/assets/colab-badge.svg\" alt=\"Open In Colab\"/></a>"
      ]
    },
    {
      "cell_type": "code",
      "metadata": {
        "id": "uS5irrKUFUfA",
        "colab_type": "code",
        "outputId": "56b9e425-daac-43d2-ec58-237a1214952c",
        "colab": {
          "base_uri": "https://localhost:8080/",
          "height": 433
        }
      },
      "source": [
        "import numpy as np\n",
        "import pandas as pd \n",
        "import matplotlib.pyplot as plt\n",
        "from sklearn.cluster import KMeans\n",
        "kmeans = KMeans(n_clusters=3)\n",
        "cb4_technical = pd.read_csv('cb4_technical.csv')\n",
        "print(cb4_technical)\n",
        "\n",
        "\n",
        "\n",
        "cb4_technical.describe()\n",
        "cb4_technical.mean(axis=1)\n",
        "print(cb4_technical.mean(axis=1))\n"
      ],
      "execution_count": 12,
      "outputs": [
        {
          "output_type": "stream",
          "text": [
            "                                  Item name  ...  Mean [$] stores#11-15\n",
            "0          23.5oz Mikes Harder Mango Punch   ...                     30\n",
            "1  23.5oz Mikes Harder Straw Pineapple Can   ...                     40\n",
            "2             24oz Gatorade Blue Raspberry   ...                     50\n",
            "3                   24oz Steel Reserve Can   ...                     60\n",
            "4                       25oz Busch Ice Can   ...                     70\n",
            "5                      25oz Natural Lt Can   ...                     80\n",
            "6         28oz Gatorade Fierce Blue Cherry   ...                     90\n",
            "7                  2Lt Coke Diet Caff Free   ...                    100\n",
            "8                      Muffin Delivered-21   ...                    300\n",
            "9              Fireball Cinn Whiskey 200ml   ...                    450\n",
            "\n",
            "[10 rows x 4 columns]\n",
            "0     27.333333\n",
            "1     36.666667\n",
            "2     45.666667\n",
            "3     55.000000\n",
            "4     64.000000\n",
            "5     73.333333\n",
            "6     82.333333\n",
            "7     91.666667\n",
            "8    333.333333\n",
            "9    500.000000\n",
            "dtype: float64\n"
          ],
          "name": "stdout"
        }
      ]
    },
    {
      "cell_type": "markdown",
      "metadata": {
        "id": "iQO-FzVb5dJ2",
        "colab_type": "text"
      },
      "source": [
        ""
      ]
    },
    {
      "cell_type": "code",
      "metadata": {
        "id": "optaqC7Z4vwz",
        "colab_type": "code",
        "colab": {}
      },
      "source": [
        ""
      ],
      "execution_count": 0,
      "outputs": []
    }
  ]
}